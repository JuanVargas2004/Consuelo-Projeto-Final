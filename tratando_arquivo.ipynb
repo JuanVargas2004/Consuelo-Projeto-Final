{
 "cells": [
  {
   "cell_type": "code",
   "execution_count": null,
   "metadata": {},
   "outputs": [],
   "source": [
    "with open(\"Dados/1410035501-noSymbol.csv\", \"r\") as file:\n",
    "    conteudo = file.read()\n",
    "\n",
    "    texto_csv = \"\"\n",
    "\n",
    "    conteudo_linhas = conteudo.split(\"\\n\")\n",
    "    conteudo_linhas = conteudo_linhas[11:32]\n",
    "    del conteudo_linhas[1]\n",
    "\n",
    "    colunas = conteudo_linhas[0]\n",
    "\n",
    "    lista_meses = colunas.split(\",\")\n",
    "    meses = len(lista_meses[1:])\n",
    "\n",
    "    for i, linha in enumerate(conteudo_linhas):\n",
    "\n",
    "        valores = linha.split('\"')\n",
    "\n",
    "        valores = valores[1::2]\n",
    "\n",
    "        valor_final = \";\".join(valores)\n",
    "\n",
    "        texto_csv += f\"{valor_final}\\n\"\n",
    "\n",
    "    print(texto_csv)"
   ]
  }
 ],
 "metadata": {
  "kernelspec": {
   "display_name": "Python 3",
   "language": "python",
   "name": "python3"
  },
  "language_info": {
   "codemirror_mode": {
    "name": "ipython",
    "version": 3
   },
   "file_extension": ".py",
   "mimetype": "text/x-python",
   "name": "python",
   "nbconvert_exporter": "python",
   "pygments_lexer": "ipython3",
   "version": "3.12.5"
  }
 },
 "nbformat": 4,
 "nbformat_minor": 2
}
