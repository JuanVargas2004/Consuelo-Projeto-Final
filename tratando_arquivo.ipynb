{
 "cells": [
  {
   "cell_type": "markdown",
   "metadata": {},
   "source": [
    "# **Setores Industriais Canadá**"
   ]
  },
  {
   "cell_type": "markdown",
   "metadata": {},
   "source": [
    "## *- Importando Bibliotecas*"
   ]
  },
  {
   "cell_type": "code",
   "execution_count": 1,
   "metadata": {},
   "outputs": [],
   "source": [
    "import re\n",
    "import pandas as pd\n",
    "from io import StringIO"
   ]
  },
  {
   "cell_type": "markdown",
   "metadata": {},
   "source": [
    "## *- Extraindo Dados*"
   ]
  },
  {
   "cell_type": "code",
   "execution_count": 2,
   "metadata": {},
   "outputs": [],
   "source": [
    "with open(\"Dados/Landing/1410035501-noSymbol.csv\", \"r\") as file:\n",
    "    conteudo = file.read()\n",
    "\n",
    "    texto_csv = \"\"\n",
    "\n",
    "    conteudo_linhas = conteudo.split(\"\\n\")\n",
    "    conteudo_linhas = conteudo_linhas[11:32]\n",
    "    del conteudo_linhas[1]\n",
    "\n",
    "    colunas = conteudo_linhas[0]\n",
    "\n",
    "    lista_meses = colunas.split(\",\")\n",
    "    meses = len(lista_meses[1:])\n",
    "\n",
    "    for i, linha in enumerate(conteudo_linhas):\n",
    "\n",
    "        valores = linha.split('\"')\n",
    "\n",
    "        valores = valores[1::2]\n",
    "\n",
    "        valor_final = \";\".join(valores)\n",
    "\n",
    "        texto_csv += f\"{valor_final}\\n\"\n"
   ]
  },
  {
   "cell_type": "markdown",
   "metadata": {},
   "source": [
    "# *- Transformando Dados*"
   ]
  },
  {
   "cell_type": "code",
   "execution_count": null,
   "metadata": {},
   "outputs": [],
   "source": [
    "arquivo_csv = StringIO(texto_csv)\n",
    "\n",
    "df = pd.read_csv(arquivo_csv, sep=\";\")\n",
    "\n",
    "display(df)"
   ]
  },
  {
   "cell_type": "code",
   "execution_count": null,
   "metadata": {},
   "outputs": [],
   "source": [
    "print(df.columns)"
   ]
  },
  {
   "cell_type": "code",
   "execution_count": 5,
   "metadata": {},
   "outputs": [],
   "source": [
    "#Renomeando a primeira coluna\n",
    "df = df.rename(columns={\"North American Industry Classification System (NAICS) 6\": \"North American Industry Classification System (NAICS)\"})"
   ]
  },
  {
   "cell_type": "code",
   "execution_count": null,
   "metadata": {},
   "outputs": [],
   "source": [
    "first = df.columns[0]\n",
    "\n",
    "df[first] = df[first].apply(lambda x: re.sub(r\"\\d\", \"\", x))\n",
    "\n",
    "display(df[first])"
   ]
  },
  {
   "cell_type": "code",
   "execution_count": null,
   "metadata": {},
   "outputs": [],
   "source": [
    "display(df.head())"
   ]
  },
  {
   "cell_type": "code",
   "execution_count": null,
   "metadata": {},
   "outputs": [],
   "source": [
    "\n",
    "\n",
    "df.iloc[:,1:] = df.iloc[:,1:].map(lambda cel: re.sub(\",\",\"\", cel))\n",
    "df.iloc[:,1:] = df.iloc[:,1:].astype(float)\n",
    "\n",
    "\n",
    "\n",
    "display(df)"
   ]
  },
  {
   "cell_type": "code",
   "execution_count": null,
   "metadata": {},
   "outputs": [],
   "source": [
    "# Traduzindo as colunas\n",
    "column_translation_dict = {\n",
    "    'North American Industry Classification System (NAICS)': 'Sistema de Classificação de Indústrias da América do Norte (SCIAN)',\n",
    "    'January': 'Janeiro',\n",
    "    'February': 'Fevereiro',\n",
    "    'March': 'Março',\n",
    "    'April': 'Abril',\n",
    "    'May': 'Maio',\n",
    "    'June': 'Junho',\n",
    "    'July': 'Julho',\n",
    "    'August': 'Agosto',\n",
    "    'September': 'Setembro',\n",
    "    'October': 'Outubro',\n",
    "    'November': 'Novembro',\n",
    "    'December': 'Dezembro'\n",
    "}\n",
    "\n",
    "\n",
    "def traduzir_coluna(column):\n",
    "    for eng, ptbr in column_translation_dict.items():\n",
    "        if eng in column:\n",
    "            column = column.replace(eng, ptbr)\n",
    "    return column\n",
    "\n",
    "\n",
    "df.columns = df.columns.map(lambda column: column.strip())\n",
    "df.columns = df.columns.map(traduzir_coluna)\n",
    "\n",
    "display(df)"
   ]
  },
  {
   "cell_type": "code",
   "execution_count": null,
   "metadata": {},
   "outputs": [],
   "source": [
    "# Traduzindo a primeira coluna\n",
    "first = df.columns[0]\n",
    "\n",
    "cell_translation_dict = {\n",
    "    \"Total employed, all industries\": \"Total empregado, todas as indústrias\",\n",
    "    \"Goods-producing sector\": \"Setor de produção de bens\",\n",
    "    \"Agriculture\": \"Agricultura\",\n",
    "    \"Forestry, fishing, mining, quarrying, oil and gas\": \"Silvicultura, pesca, mineração, extração de pedreiras, petróleo e gás\",\n",
    "    \"Utilities\": \"Serviços públicos\",\n",
    "    \"Construction\": \"Construção\",\n",
    "    \"Manufacturing\": \"Manufatura\",\n",
    "    \"Services-producing sector\": \"Setor de produção de serviços\",\n",
    "    \"Wholesale and retail trade\": \"Comércio atacadista e varejista\",\n",
    "    \"Transportation and warehousing\": \"Transporte e armazenamento\",\n",
    "    \"Finance, insurance, real estate, rental and leasing\": \"Finanças, seguros, imóveis, aluguel e leasing\",\n",
    "    \"Professional, scientific and technical services\": \"Serviços profissionais, científicos e técnicos\",\n",
    "    \"Business, building and other support services\": \"Serviços de negócios, construção e outros serviços de apoio\",\n",
    "    \"Educational services\": \"Serviços educacionais\",\n",
    "    \"Health care and social assistance\": \"Cuidados com a saúde e assistência social\",\n",
    "    \"Information, culture and recreation\": \"Informação, cultura e recreação\",\n",
    "    \"Accommodation and food services\": \"Acomodações e serviços de alimentação\",\n",
    "    \"Other services (except public administration)\": \"Outros serviços (exceto administração pública)\",\n",
    "    \"Public administration\": \"Administração pública\"\n",
    "}\n",
    "\n",
    "\n",
    "def traduzir_cell(cell):\n",
    "    for eng, ptbr in cell_translation_dict.items():\n",
    "        if eng in cell:\n",
    "            cell = cell.replace(eng,ptbr)\n",
    "    return cell\n",
    "\n",
    "\n",
    "df[first] = df[first].map(lambda cell: cell.strip())\n",
    "df[first] = df[first].map(traduzir_cell)\n",
    "\n",
    "display(df)"
   ]
  },
  {
   "cell_type": "code",
   "execution_count": 11,
   "metadata": {},
   "outputs": [],
   "source": [
    "df.to_csv(\"Dados/Tratados/DadosSetoresCanada.csv\", sep=\";\", index=False)"
   ]
  },
  {
   "cell_type": "markdown",
   "metadata": {},
   "source": [
    "# *- Loading na S3*"
   ]
  },
  {
   "cell_type": "code",
   "execution_count": 12,
   "metadata": {},
   "outputs": [],
   "source": [
    "import os\n",
    "import boto3\n",
    "from dotenv import load_dotenv\n",
    "\n",
    "\n",
    "# Carregar variáveis\n",
    "load_dotenv(r\"credentials/.env\")\n",
    "\n",
    "# Configure as cresdencias da AWS\n",
    "aws_access_key_id = os.getenv(\"AWS_ACCESS_KEY_ID\")\n",
    "aws_secret_access_key = os.getenv('AWS_SECRET_ACCESS_KEY')\n",
    "\n",
    "# Crie um client S3\n",
    "s3 = boto3.client(\n",
    "    's3',\n",
    "    aws_access_key_id=aws_access_key_id,\n",
    "    aws_secret_access_key=aws_secret_access_key\n",
    ")\n",
    "\n",
    "# Carregue o arquivo para o S3\n",
    "s3.upload_file(\n",
    "    Filename='Dados/Tratados/DadosSetoresCanada.csv',\n",
    "    Bucket='projetofinal-consuelo',\n",
    "    Key='DadosSetoresCanada.csv'\n",
    ")"
   ]
  },
  {
   "cell_type": "markdown",
   "metadata": {},
   "source": [
    "# **Setores e Subsetores NAICS (2020-2023)**"
   ]
  },
  {
   "cell_type": "markdown",
   "metadata": {},
   "source": [
    "## *- Importando Bibliotecas*"
   ]
  },
  {
   "cell_type": "code",
   "execution_count": 13,
   "metadata": {},
   "outputs": [],
   "source": [
    "from dotenv import load_dotenv\n",
    "import pandas as pd\n",
    "import boto3\n",
    "import wget\n",
    "import ssl\n",
    "import os"
   ]
  },
  {
   "cell_type": "markdown",
   "metadata": {},
   "source": [
    "## *- Extração*"
   ]
  },
  {
   "cell_type": "code",
   "execution_count": 14,
   "metadata": {},
   "outputs": [],
   "source": [
    "# Criando diretório (caso não exista)\n",
    "\n",
    "try:\n",
    "    os.mkdir(\"Dados\")\n",
    "    os.mkdir(\"Dados/Landing\")\n",
    "except:\n",
    "    pass"
   ]
  },
  {
   "cell_type": "code",
   "execution_count": null,
   "metadata": {},
   "outputs": [],
   "source": [
    "ssl._create_default_https_context = ssl._create_stdlib_context\n",
    "\n",
    "url = 'https://data.ca.gov/dataset/3f08b68e-1d1a-4ba4-a07d-1ec3392ed191/resource/ca165fad-4f16-48c7-808e-8b5222bc4182/download/qcew-2020-2022.csv'\n",
    "wget.download(url, 'Dados/Landing/qcew2020-2022.csv')\n",
    "\n",
    "url = 'https://data.ca.gov/dataset/3f08b68e-1d1a-4ba4-a07d-1ec3392ed191/resource/119eef38-3b59-499f-8f7c-9bea4768469d/download/qcew-2023.csv'\n",
    "wget.download(url, \"Dados/Landing/qcew2023.csv\")"
   ]
  },
  {
   "cell_type": "markdown",
   "metadata": {},
   "source": [
    "## *- Transformação*"
   ]
  },
  {
   "cell_type": "markdown",
   "metadata": {},
   "source": [
    "### -- Carregamento dos Dados"
   ]
  },
  {
   "cell_type": "code",
   "execution_count": 16,
   "metadata": {},
   "outputs": [],
   "source": [
    "df2022 = pd.read_csv(\"Dados/Landing/qcew2020-2022.csv\")\n",
    "df2023 = pd.read_csv(\"Dados/Landing/qcew2023.csv\")"
   ]
  },
  {
   "cell_type": "markdown",
   "metadata": {},
   "source": [
    "### *-- Traduzindo Colunas*"
   ]
  },
  {
   "cell_type": "code",
   "execution_count": 17,
   "metadata": {},
   "outputs": [],
   "source": [
    "colunas_traduzidas = {\n",
    "    'Area Type': 'Tipo de Área',\n",
    "    'Area Name': 'Nome da Área',\n",
    "    'Year': 'Ano',\n",
    "    'Time Period': 'Período de Tempo',\n",
    "    'Ownership': 'Propriedade',\n",
    "    'NAICS Level': 'Nível NAICS',\n",
    "    'NAICS Code': 'Código NAICS',\n",
    "    'Industry Name': 'Nome da Indústria',\n",
    "    'Establishments': 'Estabelecimentos',\n",
    "    'Average Monthly Employment': 'Emprego Médio Mensal',\n",
    "    '1st Month Emp': 'Emprego no 1º Mês',\n",
    "    '2nd Month Emp': 'Emprego no 2º Mês',\n",
    "    '3rd Month Emp': 'Emprego no 3º Mês',\n",
    "    'Total Wages (All Workers)': 'Salários Totais (Todos os Trabalhadores)',\n",
    "    'Average Weekly Wages': 'Salário Médio Semanal'\n",
    "}\n",
    "\n",
    "\n",
    "df2022.rename(columns=colunas_traduzidas, inplace = True)\n",
    "df2023.rename(columns=colunas_traduzidas, inplace = True)"
   ]
  },
  {
   "cell_type": "code",
   "execution_count": null,
   "metadata": {},
   "outputs": [],
   "source": [
    "display(df2022.head())\n",
    "print(\"\\n-------------------\\n\")\n",
    "display(df2023.head())"
   ]
  },
  {
   "cell_type": "markdown",
   "metadata": {},
   "source": [
    "### *-- Padronizando Tipos*"
   ]
  },
  {
   "cell_type": "code",
   "execution_count": 19,
   "metadata": {},
   "outputs": [],
   "source": [
    "#Primeiro transformando para inteiro para tirar o ponto flutuante\n",
    "df2023['Nível NAICS'] = df2023['Nível NAICS'].astype(pd.Int64Dtype())\n",
    "df2022['Nível NAICS'] = df2022['Nível NAICS'].astype(pd.Int64Dtype())\n",
    "\n",
    "#Transformando para string\n",
    "df2023['Nível NAICS'] = df2023['Nível NAICS'].astype(pd.StringDtype())\n",
    "df2022['Código NAICS'] = df2022['Código NAICS'].astype(pd.StringDtype())\n",
    "\n",
    "\n",
    "#Transformando Salário Médio em float\n",
    "df2023['Salário Médio Semanal'] = df2023['Salário Médio Semanal'].astype(float)\n",
    "df2022['Salário Médio Semanal'] = df2022['Salário Médio Semanal'].astype(float)"
   ]
  },
  {
   "cell_type": "markdown",
   "metadata": {},
   "source": [
    "### *-- Juntando Tabelas*"
   ]
  },
  {
   "cell_type": "code",
   "execution_count": 20,
   "metadata": {},
   "outputs": [],
   "source": [
    "df = pd.concat([df2022, df2023], ignore_index=True)"
   ]
  },
  {
   "cell_type": "code",
   "execution_count": null,
   "metadata": {},
   "outputs": [],
   "source": [
    "display(df)"
   ]
  },
  {
   "cell_type": "markdown",
   "metadata": {},
   "source": [
    "### *-- Separando Períodos Anuais dos Trimestrais*"
   ]
  },
  {
   "cell_type": "code",
   "execution_count": 22,
   "metadata": {},
   "outputs": [],
   "source": [
    "df_anual = df[df['Período de Tempo'] == 'Annual']\n",
    "df_trimestral = df[df['Período de Tempo'] != 'Annual']\n",
    "\n",
    "df = df_trimestral # Backup código"
   ]
  },
  {
   "cell_type": "code",
   "execution_count": null,
   "metadata": {},
   "outputs": [],
   "source": [
    "display(df.head())\n",
    "print(\"\\n-------------------\\n\")\n",
    "display(df_anual.head())"
   ]
  },
  {
   "cell_type": "markdown",
   "metadata": {},
   "source": [
    "### *-- Traduzindo Valores*"
   ]
  },
  {
   "cell_type": "code",
   "execution_count": 24,
   "metadata": {},
   "outputs": [],
   "source": [
    "# print(set(df[\"Período de Tempo\"]))\n",
    "# print(set(df[\"Tipo de Área\"]))\n",
    "# print(set(df[\"Nome da Área\"]))\n",
    "# print(set(df[\"Propriedade\"]))\n",
    "\n",
    "\n",
    "# Pedindo tradução ao GPT\n",
    "\n",
    "temp_dict = {\n",
    "    '1st Qtr': 'Trimestre 1',\n",
    "    '2nd Qtr': 'Trimestre 2',\n",
    "    '3rd Qtr': 'Trimestre 3',\n",
    "    '4th Qtr': 'Trimestre 4',\n",
    "    'Annual': 'Anual'\n",
    "}\n",
    "\n",
    "\n",
    "tipo_dict = {\n",
    "    'United States': 'Estados Unidos',\n",
    "    'California - Statewide': 'Califórnia - Estado',\n",
    "    'County': 'Condado'\n",
    "}\n",
    "\n",
    "nome_dict = {\n",
    "    'Marin County': 'Condado de Marin',\n",
    "    'California': 'Califórnia',\n",
    "    'Nevada County': 'Condado de Nevada',\n",
    "    'Siskiyou County': 'Condado de Siskiyou',\n",
    "    'Humboldt County': 'Condado de Humboldt',\n",
    "    'Santa Barbara County': 'Condado de Santa Bárbara',\n",
    "    'Fresno County': 'Condado de Fresno',\n",
    "    'Kern County': 'Condado de Kern',\n",
    "    'Shasta County': 'Condado de Shasta',\n",
    "    'Sierra County': 'Condado de Sierra',\n",
    "    'Merced County': 'Condado de Merced',\n",
    "    'Lake County': 'Condado de Lake',\n",
    "    'Contra Costa County': 'Condado de Contra Costa',\n",
    "    'Solano County': 'Condado de Solano',\n",
    "    'Santa Clara County': 'Condado de Santa Clara',\n",
    "    'Butte County': 'Condado de Butte',\n",
    "    'Ventura County': 'Condado de Ventura',\n",
    "    'Sacramento County': 'Condado de Sacramento',\n",
    "    'Mono County': 'Condado de Mono',\n",
    "    'Orange County': 'Condado de Orange',\n",
    "    'Calaveras County': 'Condado de Calaveras',\n",
    "    'Del Norte County': 'Condado de Del Norte',\n",
    "    'San Benito County': 'Condado de San Benito',\n",
    "    'Trinity County': 'Condado de Trinity',\n",
    "    'United States': 'Estados Unidos',\n",
    "    'Kings County': 'Condado de Kings',\n",
    "    'Stanislaus County': 'Condado de Stanislaus',\n",
    "    'Plumas County': 'Condado de Plumas',\n",
    "    'Mariposa County': 'Condado de Mariposa',\n",
    "    'Inyo County': 'Condado de Inyo',\n",
    "    'Riverside County': 'Condado de Riverside',\n",
    "    'San Diego County': 'Condado de San Diego',\n",
    "    'Colusa County': 'Condado de Colusa',\n",
    "    'San Luis Obispo County': 'Condado de San Luis Obispo',\n",
    "    'San Bernardino County': 'Condado de San Bernardino',\n",
    "    'Yuba County': 'Condado de Yuba',\n",
    "    'Napa County': 'Condado de Napa',\n",
    "    'El Dorado County': 'Condado de El Dorado',\n",
    "    'Glenn County': 'Condado de Glenn',\n",
    "    'Monterey County': 'Condado de Monterey',\n",
    "    'Santa Cruz County': 'Condado de Santa Cruz',\n",
    "    'Yolo County': 'Condado de Yolo',\n",
    "    'Amador County': 'Condado de Amador',\n",
    "    'Tuolumne County': 'Condado de Tuolumne',\n",
    "    'Lassen County': 'Condado de Lassen',\n",
    "    'Modoc County': 'Condado de Modoc',\n",
    "    'Los Angeles County': 'Condado de Los Angeles',\n",
    "    'San Joaquin County': 'Condado de San Joaquin',\n",
    "    'Alpine County': 'Condado de Alpine',\n",
    "    'San Francisco County': 'Condado de San Francisco',\n",
    "    'Alameda County': 'Condado de Alameda',\n",
    "    'Tehama County': 'Condado de Tehama',\n",
    "    'Tulare County': 'Condado de Tulare',\n",
    "    'Sutter County': 'Condado de Sutter',\n",
    "    'Imperial County': 'Condado de Imperial',\n",
    "    'Placer County': 'Condado de Placer',\n",
    "    'San Mateo County': 'Condado de San Mateo',\n",
    "    'Mendocino County': 'Condado de Mendocino',\n",
    "    'Madera County': 'Condado de Madera',\n",
    "    'Sonoma County': 'Condado de Sonoma'\n",
    "}\n",
    "\n",
    "\n",
    "prop_dict = {\n",
    "    'Total Government': 'Governo Total',\n",
    "    'Total U.I. Covered': 'Total Coberto pelo Seguro Desemprego',\n",
    "    'Federal Government': 'Governo Federal',\n",
    "    'Local Government': 'Governo Local',\n",
    "    'Total Covered': 'Total Coberto',\n",
    "    'Private': 'Setor Privado',\n",
    "    'State Government': 'Governo Estadual'\n",
    "}"
   ]
  },
  {
   "cell_type": "code",
   "execution_count": 25,
   "metadata": {},
   "outputs": [],
   "source": [
    "# Substituindo valores\n",
    "\n",
    "df[\"Período de Tempo\"] = df[\"Período de Tempo\"].map(temp_dict)\n",
    "df[\"Tipo de Área\"] = df[\"Tipo de Área\"].map(tipo_dict)\n",
    "df[\"Nome da Área\"] = df[\"Nome da Área\"].map(nome_dict)\n",
    "df[\"Propriedade\"] = df[\"Propriedade\"].map(prop_dict)\n",
    "\n",
    "df_anual[\"Período de Tempo\"] = df_anual[\"Período de Tempo\"].map(temp_dict)\n",
    "df_anual[\"Tipo de Área\"] = df_anual[\"Tipo de Área\"].map(tipo_dict)\n",
    "df_anual[\"Nome da Área\"] = df_anual[\"Nome da Área\"].map(nome_dict)\n",
    "df_anual[\"Propriedade\"] = df_anual[\"Propriedade\"].map(prop_dict)"
   ]
  },
  {
   "cell_type": "code",
   "execution_count": null,
   "metadata": {},
   "outputs": [],
   "source": [
    "display(df.head())\n",
    "print(\"\\n-------------------\\n\")\n",
    "display(df_anual.head())"
   ]
  },
  {
   "cell_type": "markdown",
   "metadata": {},
   "source": [
    "### *-- Feature Engineering -> Adicionando Coluna de Setores*"
   ]
  },
  {
   "cell_type": "code",
   "execution_count": 27,
   "metadata": {},
   "outputs": [],
   "source": [
    "# Importando dicionário de outro arquivo para captar setores e subsetores\n",
    "from pegarSetores import pegar_setores\n",
    "\n",
    "\n",
    "setores = pegar_setores()\n",
    "\n",
    "def aplicar_setor(linha):\n",
    "\n",
    "    valorCell = linha[\"Nome da Indústria\"]\n",
    "\n",
    "    if valorCell in setores:\n",
    "        return setores[valorCell]\n",
    "    else:\n",
    "        return \"NÃO LISTADO\""
   ]
  },
  {
   "cell_type": "code",
   "execution_count": 28,
   "metadata": {},
   "outputs": [],
   "source": [
    "# Aplicando a função para ambas as tabelas\n",
    "\n",
    "df[\"Setor\"] = df.apply(aplicar_setor, axis=1)\n",
    "df_anual[\"Setor\"] = df_anual.apply(aplicar_setor, axis=1)"
   ]
  },
  {
   "cell_type": "code",
   "execution_count": null,
   "metadata": {},
   "outputs": [],
   "source": [
    "display(df.head())\n",
    "print(\"\\n-------------------\\n\")\n",
    "display(df_anual.head())"
   ]
  },
  {
   "cell_type": "markdown",
   "metadata": {},
   "source": [
    "#### *--- Adicionando Setores Ainda Não Listados*"
   ]
  },
  {
   "cell_type": "code",
   "execution_count": 30,
   "metadata": {},
   "outputs": [],
   "source": [
    "# Classificando por Código\n",
    "\n",
    "codigos_setor = {\n",
    "    \"11\": \"Agriculture, Forestry, Fishing and Hunting\",\n",
    "    \"21\": \"Mining, Quarrying, and Oil and Gas Extraction\",\n",
    "    \"22\": \"Utilities\",\n",
    "    \"23\": \"Construction\",\n",
    "    # \"31-33\": \"Manufacturing\",\n",
    "    \"31\": \"Manufacturing\",\n",
    "    \"32\": \"Manufacturing\",\n",
    "    \"33\": \"Manufacturing\",\n",
    "    \"42\": \"Wholesale Trade\",\n",
    "    # \"44-45\": \"Retail Trade\",\n",
    "    \"44\": \"Retail Trade\",\n",
    "    \"45\": \"Retail Trade\",\n",
    "    # \"48-49\": \"Transportation and Warehousing\",\n",
    "    \"48\": \"Transportation and Warehousing\",\n",
    "    \"49\": \"Transportation and Warehousing\",\n",
    "    \"51\": \"Information\",\n",
    "    \"52\": \"Finance and Insurance\",\n",
    "    \"53\": \"Real Estate and Rental and Leasing\",\n",
    "    \"54\": \"Professional, Scientific, and Technical Services\",\n",
    "    \"55\": \"Management of Companies and Enterprises\",\n",
    "    \"56\": \"Administrative and Support and Waste Management and Remediation Services\",\n",
    "    \"61\": \"Educational Services\",\n",
    "    \"62\": \"Health Care and Social Assistance\",\n",
    "    \"71\": \"Arts, Entertainment, and Recreation\",\n",
    "    \"72\": \"Accommodation and Food Services\",\n",
    "    \"81\": \"Other Services (except Public Administration)\",\n",
    "    \"92\": \"Public Administration (not covered in economic census)\"\n",
    "}\n"
   ]
  },
  {
   "cell_type": "code",
   "execution_count": null,
   "metadata": {},
   "outputs": [],
   "source": [
    "#Criando uma tabela temporária trimestral\n",
    "temp_df = df[df[\"Setor\"] == \"NÃO LISTADO\"].copy()\n",
    "temp_df[\"Setor\"] = temp_df[\"Código NAICS\"].map(lambda cell: codigos_setor[cell.strip()[:2]] if cell.strip()[:2] in codigos_setor else \"NÃO LISTADO\")\n",
    "\n",
    "\n",
    "#Criando uma tabela temporária anual\n",
    "temp_df_anual = df_anual[df_anual[\"Setor\"] == \"NÃO LISTADO\"].copy()\n",
    "temp_df_anual[\"Setor\"] = temp_df_anual[\"Código NAICS\"].map(lambda cell: codigos_setor[cell.strip()[:2]] if cell.strip()[:2] in codigos_setor else \"NÃO LISTADO\")\n",
    "\n",
    "\n",
    "display(temp_df.head())\n",
    "print(\"\\n-------------------\\n\")\n",
    "display(temp_df_anual.head())"
   ]
  },
  {
   "cell_type": "code",
   "execution_count": null,
   "metadata": {},
   "outputs": [],
   "source": [
    "df[df[\"Setor\"] == \"NÃO LISTADO\"] = temp_df\n",
    "\n",
    "df_anual[df_anual[\"Setor\"] == \"NÃO LISTADO\"] = temp_df_anual\n",
    "\n",
    "display(df.head())\n",
    "print(\"\\n-------------------\\n\")\n",
    "display(df_anual.head())"
   ]
  },
  {
   "cell_type": "markdown",
   "metadata": {},
   "source": [
    "## *-- Traduzindo Setores e Subsetores*"
   ]
  },
  {
   "cell_type": "code",
   "execution_count": 33,
   "metadata": {},
   "outputs": [],
   "source": [
    "from deep_translator import GoogleTranslator\n",
    "\n",
    "tradutor = GoogleTranslator(source=\"en\", target=\"pt\")"
   ]
  },
  {
   "cell_type": "code",
   "execution_count": null,
   "metadata": {},
   "outputs": [],
   "source": [
    "# Traduzindo Subsetores\n",
    "\n",
    "lista_subsetores = set(df[\"Nome da Indústria\"])\n",
    "\n",
    "tradutor = GoogleTranslator(source=\"en\", target=\"pt\")\n",
    "\n",
    "for i, subsetor in enumerate(lista_subsetores):\n",
    "    traduzido = tradutor.translate(subsetor)\n",
    "    \n",
    "    df.loc[df[\"Nome da Indústria\"] == subsetor, \"Nome da Indústria\"] = traduzido\n",
    "    df_anual.loc[df_anual[\"Nome da Indústria\"] == subsetor, \"Nome da Indústria\"] = traduzido\n",
    "\n",
    "    print(f\"Linha {i + 1} traduzida\")"
   ]
  },
  {
   "cell_type": "code",
   "execution_count": null,
   "metadata": {},
   "outputs": [],
   "source": [
    "# Traduzindo Setores\n",
    "\n",
    "lista_setores = set(df[\"Setor\"])\n",
    "\n",
    "tradutor = GoogleTranslator(source=\"en\", target=\"pt\")\n",
    "\n",
    "for i, setor in enumerate(lista_setores):\n",
    "    traduzido = tradutor.translate(setor)\n",
    "\n",
    "    df.loc[df[\"Setor\"] == setor, \"Setor\"] = traduzido\n",
    "    df_anual.loc[df_anual[\"Setor\"] == setor, \"Setor\"] = traduzido\n",
    "\n",
    "    print(f\"Linha {i + 1} traduzida\")"
   ]
  },
  {
   "cell_type": "markdown",
   "metadata": {},
   "source": [
    "## *-- Salvando Arquivos*"
   ]
  },
  {
   "cell_type": "code",
   "execution_count": 37,
   "metadata": {},
   "outputs": [],
   "source": [
    "df.to_csv(\"Dados/Tratados/QCEW_Setorizado.csv\", index=False, sep=\";\")\n",
    "df_anual.to_csv(\"Dados/Tratados/QCEW_Anual_Setorizado.csv\", index=False, sep=\";\")"
   ]
  },
  {
   "cell_type": "markdown",
   "metadata": {},
   "source": [
    "# *- Loading na S3*"
   ]
  },
  {
   "cell_type": "code",
   "execution_count": 38,
   "metadata": {},
   "outputs": [],
   "source": [
    "import os\n",
    "import boto3\n",
    "from dotenv import load_dotenv\n",
    "\n",
    "\n",
    "# Carregar variáveis\n",
    "load_dotenv(r\"credentials/.env\")\n",
    "\n",
    "# Configure as cresdencias da AWS\n",
    "aws_access_key_id = os.getenv(\"AWS_ACCESS_KEY_ID\")\n",
    "aws_secret_access_key = os.getenv('AWS_SECRET_ACCESS_KEY')\n",
    "\n",
    "# Crie um client S3\n",
    "s3 = boto3.client(\n",
    "    's3',\n",
    "    aws_access_key_id=aws_access_key_id,\n",
    "    aws_secret_access_key=aws_secret_access_key\n",
    ")\n",
    "\n",
    "# Carregue o arquivo trimestral para o S3\n",
    "s3.upload_file(\n",
    "    Filename='Dados/Tratados/QCEW_Setorizado.csv',\n",
    "    Bucket='projetofinal-consuelo',\n",
    "    Key='QCEW_Setorizado.csv'\n",
    ")\n",
    "\n",
    "# Carregue o arquivo anual para o S3\n",
    "s3.upload_file(\n",
    "    Filename='Dados/Tratados/QCEW_Anual_Setorizado.csv',\n",
    "    Bucket='projetofinal-consuelo',\n",
    "    Key='QCEW_Anual_Setorizado.csv'\n",
    ")\n"
   ]
  }
 ],
 "metadata": {
  "kernelspec": {
   "display_name": "Python 3",
   "language": "python",
   "name": "python3"
  },
  "language_info": {
   "codemirror_mode": {
    "name": "ipython",
    "version": 3
   },
   "file_extension": ".py",
   "mimetype": "text/x-python",
   "name": "python",
   "nbconvert_exporter": "python",
   "pygments_lexer": "ipython3",
   "version": "3.12.6"
  }
 },
 "nbformat": 4,
 "nbformat_minor": 2
}
