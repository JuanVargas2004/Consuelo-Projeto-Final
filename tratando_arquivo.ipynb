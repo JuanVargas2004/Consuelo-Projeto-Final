{
 "cells": [
  {
   "cell_type": "markdown",
   "metadata": {},
   "source": [
    "# **Importando Bibliotecas**"
   ]
  },
  {
   "cell_type": "code",
   "execution_count": 1,
   "metadata": {},
   "outputs": [],
   "source": [
    "import re\n",
    "import pandas as pd\n",
    "from io import StringIO"
   ]
  },
  {
   "cell_type": "markdown",
   "metadata": {},
   "source": [
    "# **Extraindo Dados**"
   ]
  },
  {
   "cell_type": "code",
   "execution_count": 2,
   "metadata": {},
   "outputs": [],
   "source": [
    "with open(\"Dados/Landing/1410035501-noSymbol.csv\", \"r\") as file:\n",
    "    conteudo = file.read()\n",
    "\n",
    "    texto_csv = \"\"\n",
    "\n",
    "    conteudo_linhas = conteudo.split(\"\\n\")\n",
    "    conteudo_linhas = conteudo_linhas[11:32]\n",
    "    del conteudo_linhas[1]\n",
    "\n",
    "    colunas = conteudo_linhas[0]\n",
    "\n",
    "    lista_meses = colunas.split(\",\")\n",
    "    meses = len(lista_meses[1:])\n",
    "\n",
    "    for i, linha in enumerate(conteudo_linhas):\n",
    "\n",
    "        valores = linha.split('\"')\n",
    "\n",
    "        valores = valores[1::2]\n",
    "\n",
    "        valor_final = \";\".join(valores)\n",
    "\n",
    "        texto_csv += f\"{valor_final}\\n\"\n"
   ]
  },
  {
   "cell_type": "markdown",
   "metadata": {},
   "source": [
    "# **Transformando Dados**"
   ]
  },
  {
   "cell_type": "code",
   "execution_count": null,
   "metadata": {},
   "outputs": [],
   "source": [
    "arquivo_csv = StringIO(texto_csv)\n",
    "\n",
    "df = pd.read_csv(arquivo_csv, sep=\";\")\n",
    "\n",
    "display(df)"
   ]
  },
  {
   "cell_type": "code",
   "execution_count": null,
   "metadata": {},
   "outputs": [],
   "source": [
    "print(df.columns)"
   ]
  },
  {
   "cell_type": "code",
   "execution_count": 5,
   "metadata": {},
   "outputs": [],
   "source": [
    "#Renomeando a primeira coluna\n",
    "df = df.rename(columns={\"North American Industry Classification System (NAICS) 6\": \"North American Industry Classification System (NAICS)\"})"
   ]
  },
  {
   "cell_type": "code",
   "execution_count": null,
   "metadata": {},
   "outputs": [],
   "source": [
    "first = df.columns[0]\n",
    "\n",
    "df[first] = df[first].apply(lambda x: re.sub(r\"\\d\", \"\", x))\n",
    "\n",
    "display(df[first])"
   ]
  },
  {
   "cell_type": "code",
   "execution_count": null,
   "metadata": {},
   "outputs": [],
   "source": [
    "display(df.head())"
   ]
  },
  {
   "cell_type": "code",
   "execution_count": null,
   "metadata": {},
   "outputs": [],
   "source": [
    "\n",
    "\n",
    "df.iloc[:,1:] = df.iloc[:,1:].map(lambda cel: re.sub(\",\",\"\", cel))\n",
    "df.iloc[:,1:] = df.iloc[:,1:].astype(float)\n",
    "\n",
    "\n",
    "\n",
    "display(df)"
   ]
  },
  {
   "cell_type": "code",
   "execution_count": null,
   "metadata": {},
   "outputs": [],
   "source": [
    "# Traduzindo as colunas\n",
    "column_translation_dict = {\n",
    "    'North American Industry Classification System (NAICS)': 'Sistema de Classificação de Indústrias da América do Norte (SCIAN)',\n",
    "    'January': 'Janeiro',\n",
    "    'February': 'Fevereiro',\n",
    "    'March': 'Março',\n",
    "    'April': 'Abril',\n",
    "    'May': 'Maio',\n",
    "    'June': 'Junho',\n",
    "    'July': 'Julho',\n",
    "    'August': 'Agosto',\n",
    "    'September': 'Setembro',\n",
    "    'October': 'Outubro',\n",
    "    'November': 'Novembro',\n",
    "    'December': 'Dezembro'\n",
    "}\n",
    "\n",
    "\n",
    "def traduzir_coluna(column):\n",
    "    for eng, ptbr in column_translation_dict.items():\n",
    "        if eng in column:\n",
    "            column = column.replace(eng, ptbr)\n",
    "    return column\n",
    "\n",
    "\n",
    "df.columns = df.columns.map(lambda column: column.strip())\n",
    "df.columns = df.columns.map(traduzir_coluna)\n",
    "\n",
    "display(df)"
   ]
  },
  {
   "cell_type": "code",
   "execution_count": null,
   "metadata": {},
   "outputs": [],
   "source": [
    "# Traduzindo a primeira coluna\n",
    "first = df.columns[0]\n",
    "\n",
    "cell_translation_dict = {\n",
    "    \"Total employed, all industries\": \"Total empregado, todas as indústrias\",\n",
    "    \"Goods-producing sector\": \"Setor de produção de bens\",\n",
    "    \"Agriculture\": \"Agricultura\",\n",
    "    \"Forestry, fishing, mining, quarrying, oil and gas\": \"Silvicultura, pesca, mineração, extração de pedreiras, petróleo e gás\",\n",
    "    \"Utilities\": \"Serviços públicos\",\n",
    "    \"Construction\": \"Construção\",\n",
    "    \"Manufacturing\": \"Manufatura\",\n",
    "    \"Services-producing sector\": \"Setor de produção de serviços\",\n",
    "    \"Wholesale and retail trade\": \"Comércio atacadista e varejista\",\n",
    "    \"Transportation and warehousing\": \"Transporte e armazenamento\",\n",
    "    \"Finance, insurance, real estate, rental and leasing\": \"Finanças, seguros, imóveis, aluguel e leasing\",\n",
    "    \"Professional, scientific and technical services\": \"Serviços profissionais, científicos e técnicos\",\n",
    "    \"Business, building and other support services\": \"Serviços de negócios, construção e outros serviços de apoio\",\n",
    "    \"Educational services\": \"Serviços educacionais\",\n",
    "    \"Health care and social assistance\": \"Cuidados com a saúde e assistência social\",\n",
    "    \"Information, culture and recreation\": \"Informação, cultura e recreação\",\n",
    "    \"Accommodation and food services\": \"Acomodações e serviços de alimentação\",\n",
    "    \"Other services (except public administration)\": \"Outros serviços (exceto administração pública)\",\n",
    "    \"Public administration\": \"Administração pública\"\n",
    "}\n",
    "\n",
    "\n",
    "def traduzir_cell(cell):\n",
    "    for eng, ptbr in cell_translation_dict.items():\n",
    "        if eng in cell:\n",
    "            cell = cell.replace(eng,ptbr)\n",
    "    return cell\n",
    "\n",
    "\n",
    "df[first] = df[first].map(lambda cell: cell.strip())\n",
    "df[first] = df[first].map(traduzir_cell)\n",
    "\n",
    "display(df)"
   ]
  },
  {
   "cell_type": "code",
   "execution_count": 11,
   "metadata": {},
   "outputs": [],
   "source": [
    "df.to_csv(\"Dados/Tratados/DadosSetoresCanada.csv\", sep=\";\", index=False)"
   ]
  },
  {
   "cell_type": "markdown",
   "metadata": {},
   "source": [
    "# **Loading na S3**"
   ]
  },
  {
   "cell_type": "code",
   "execution_count": 12,
   "metadata": {},
   "outputs": [],
   "source": [
    "import os\n",
    "import boto3\n",
    "from dotenv import load_dotenv\n",
    "\n",
    "\n",
    "# Carregar variáveis\n",
    "load_dotenv(r\"credentials/.env\")\n",
    "\n",
    "# Configure as cresdencias da AWS\n",
    "aws_access_key_id = os.getenv(\"AWS_ACCESS_KEY_ID\")\n",
    "aws_secret_access_key = os.getenv('AWS_SECRET_ACCESS_KEY')\n",
    "\n",
    "# Crie um client S3\n",
    "s3 = boto3.client(\n",
    "    's3',\n",
    "    aws_access_key_id=aws_access_key_id,\n",
    "    aws_secret_access_key=aws_secret_access_key\n",
    ")\n",
    "\n",
    "# Carregue o arquivo para o S3\n",
    "s3.upload_file(\n",
    "    Filename='Dados/Tratados/DadosSetoresCanada.csv',\n",
    "    Bucket='projetofinal-consuelo',\n",
    "    Key='DadosSetoresCanada.csv'\n",
    ")"
   ]
  }
 ],
 "metadata": {
  "kernelspec": {
   "display_name": "Python 3",
   "language": "python",
   "name": "python3"
  },
  "language_info": {
   "codemirror_mode": {
    "name": "ipython",
    "version": 3
   },
   "file_extension": ".py",
   "mimetype": "text/x-python",
   "name": "python",
   "nbconvert_exporter": "python",
   "pygments_lexer": "ipython3",
   "version": "3.12.6"
  }
 },
 "nbformat": 4,
 "nbformat_minor": 2
}
