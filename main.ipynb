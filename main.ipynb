{
 "cells": [
  {
   "cell_type": "markdown",
   "metadata": {},
   "source": [
    "## - **Importando Bibliotecas**"
   ]
  },
  {
   "cell_type": "code",
   "execution_count": 67,
   "metadata": {},
   "outputs": [],
   "source": [
    "from time import sleep\n",
    "from selenium import webdriver\n",
    "from selenium.webdriver.common.by import By\n",
    "from selenium.webdriver.common.keys import Keys"
   ]
  },
  {
   "cell_type": "markdown",
   "metadata": {},
   "source": [
    "## - **Entrando no Indeed**"
   ]
  },
  {
   "cell_type": "code",
   "execution_count": null,
   "metadata": {},
   "outputs": [],
   "source": [
    "driver = webdriver.Chrome()\n",
    "url_login = \"https://br.indeed.com/\"\n",
    "driver.get(url_login)"
   ]
  },
  {
   "cell_type": "markdown",
   "metadata": {},
   "source": [
    "## - **Pequisando Vagas**"
   ]
  },
  {
   "cell_type": "code",
   "execution_count": 73,
   "metadata": {},
   "outputs": [],
   "source": [
    "driver.get(url_login)\n",
    "\n",
    "try:\n",
    "    recusar_cookies = driver.find_element(By.ID, \"onetrust-reject-all-handler\")\n",
    "    recusar_cookies.click()\n",
    "except:\n",
    "    pass\n",
    "\n",
    "\n",
    "input_cargo = \"Cozinheiro\"\n",
    "input_localidade = \"Minas Gerais\"\n",
    "\n",
    "\n",
    "localidade = driver.find_element(By.ID, \"text-input-where\")\n",
    "cargo = driver.find_element(By.ID, \"text-input-what\")\n",
    "\n",
    "\n",
    "cargo.send_keys(Keys.CONTROL + \"a\")\n",
    "cargo.send_keys(Keys.BACKSPACE)\n",
    "\n",
    "sleep(0.5)\n",
    "\n",
    "localidade.send_keys(Keys.CONTROL + \"a\")\n",
    "localidade.send_keys(Keys.BACKSPACE)\n",
    "\n",
    "sleep(0.5)\n",
    "\n",
    "cargo.send_keys(input_cargo)\n",
    "localidade.send_keys(input_localidade)\n",
    "\n",
    "\n",
    "botao_pesquisar = driver.find_elements(By.CLASS_NAME, \"yosegi-InlineWhatWhere-primaryButton\")[0]\n",
    "botao_pesquisar.click()"
   ]
  }
 ],
 "metadata": {
  "kernelspec": {
   "display_name": "Python 3",
   "language": "python",
   "name": "python3"
  },
  "language_info": {
   "codemirror_mode": {
    "name": "ipython",
    "version": 3
   },
   "file_extension": ".py",
   "mimetype": "text/x-python",
   "name": "python",
   "nbconvert_exporter": "python",
   "pygments_lexer": "ipython3",
   "version": "3.12.5"
  }
 },
 "nbformat": 4,
 "nbformat_minor": 2
}
