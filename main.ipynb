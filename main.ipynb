{
 "cells": [
  {
   "cell_type": "markdown",
   "metadata": {},
   "source": [
    "## - **Importando Bibliotecas**"
   ]
  },
  {
   "cell_type": "code",
   "execution_count": 108,
   "metadata": {},
   "outputs": [],
   "source": [
    "from time import sleep\n",
    "from selenium import webdriver\n",
    "from selenium.webdriver.common.by import By\n",
    "from selenium.webdriver.common.keys import Keys"
   ]
  },
  {
   "cell_type": "markdown",
   "metadata": {},
   "source": [
    "## - **Entrando no Indeed**"
   ]
  },
  {
   "cell_type": "code",
   "execution_count": 109,
   "metadata": {},
   "outputs": [],
   "source": [
    "driver = webdriver.Chrome()\n",
    "url_login = \"https://br.indeed.com/\"\n",
    "driver.get(url_login)"
   ]
  },
  {
   "cell_type": "markdown",
   "metadata": {},
   "source": [
    "## - **Pequisando Vagas**"
   ]
  },
  {
   "cell_type": "code",
   "execution_count": 111,
   "metadata": {},
   "outputs": [
    {
     "name": "stdout",
     "output_type": "stream",
     "text": [
      "802610E0FA108D366307D10265321E12\n"
     ]
    }
   ],
   "source": [
    "driver.get(url_login)\n",
    "\n",
    "try:\n",
    "    recusar_cookies = driver.find_element(By.ID, \"onetrust-reject-all-handler\")\n",
    "    recusar_cookies.click()\n",
    "except:\n",
    "    pass\n",
    "\n",
    "\n",
    "input_cargo = \"Cozinheiro\"\n",
    "input_localidade = \"Minas Gerais\"\n",
    "\n",
    "\n",
    "localidade = driver.find_element(By.ID, \"text-input-where\")\n",
    "cargo = driver.find_element(By.ID, \"text-input-what\")\n",
    "\n",
    "\n",
    "cargo.send_keys(Keys.CONTROL + \"a\")\n",
    "cargo.send_keys(Keys.BACKSPACE)\n",
    "\n",
    "sleep(0.5)\n",
    "\n",
    "localidade.send_keys(Keys.CONTROL + \"a\")\n",
    "localidade.send_keys(Keys.BACKSPACE)\n",
    "\n",
    "sleep(0.5)\n",
    "\n",
    "cargo.send_keys(input_cargo)\n",
    "localidade.send_keys(input_localidade)\n",
    "\n",
    "janela_ativa = driver.current_window_handle\n",
    "print(janela_ativa)\n",
    "\n",
    "botao_pesquisar = driver.find_elements(By.CLASS_NAME, \"yosegi-InlineWhatWhere-primaryButton\")[0]\n",
    "botao_pesquisar.click()"
   ]
  },
  {
   "cell_type": "markdown",
   "metadata": {},
   "source": [
    "## - **Iterando sobre Vagas**"
   ]
  },
  {
   "cell_type": "code",
   "execution_count": 121,
   "metadata": {},
   "outputs": [
    {
     "name": "stdout",
     "output_type": "stream",
     "text": [
      "<selenium.webdriver.remote.webelement.WebElement (session=\"ed0dda38418c36c41e2593a058422e2f\", element=\"f.802610E0FA108D366307D10265321E12.d.A47D865BAD4E1DDA71A81973CC7E241C.e.952\")>\n",
      "<selenium.webdriver.remote.webelement.WebElement (session=\"ed0dda38418c36c41e2593a058422e2f\", element=\"f.802610E0FA108D366307D10265321E12.d.A47D865BAD4E1DDA71A81973CC7E241C.e.1001\")>\n",
      "<selenium.webdriver.remote.webelement.WebElement (session=\"ed0dda38418c36c41e2593a058422e2f\", element=\"f.802610E0FA108D366307D10265321E12.d.A47D865BAD4E1DDA71A81973CC7E241C.e.1004\")>\n",
      "<selenium.webdriver.remote.webelement.WebElement (session=\"ed0dda38418c36c41e2593a058422e2f\", element=\"f.802610E0FA108D366307D10265321E12.d.A47D865BAD4E1DDA71A81973CC7E241C.e.1014\")>\n",
      "<selenium.webdriver.remote.webelement.WebElement (session=\"ed0dda38418c36c41e2593a058422e2f\", element=\"f.802610E0FA108D366307D10265321E12.d.A47D865BAD4E1DDA71A81973CC7E241C.e.1056\")>\n",
      "<selenium.webdriver.remote.webelement.WebElement (session=\"ed0dda38418c36c41e2593a058422e2f\", element=\"f.802610E0FA108D366307D10265321E12.d.A47D865BAD4E1DDA71A81973CC7E241C.e.1059\")>\n",
      "<selenium.webdriver.remote.webelement.WebElement (session=\"ed0dda38418c36c41e2593a058422e2f\", element=\"f.802610E0FA108D366307D10265321E12.d.A47D865BAD4E1DDA71A81973CC7E241C.e.1075\")>\n",
      "<selenium.webdriver.remote.webelement.WebElement (session=\"ed0dda38418c36c41e2593a058422e2f\", element=\"f.802610E0FA108D366307D10265321E12.d.A47D865BAD4E1DDA71A81973CC7E241C.e.1083\")>\n",
      "<selenium.webdriver.remote.webelement.WebElement (session=\"ed0dda38418c36c41e2593a058422e2f\", element=\"f.802610E0FA108D366307D10265321E12.d.A47D865BAD4E1DDA71A81973CC7E241C.e.1088\")>\n",
      "<selenium.webdriver.remote.webelement.WebElement (session=\"ed0dda38418c36c41e2593a058422e2f\", element=\"f.802610E0FA108D366307D10265321E12.d.A47D865BAD4E1DDA71A81973CC7E241C.e.1098\")>\n",
      "<selenium.webdriver.remote.webelement.WebElement (session=\"ed0dda38418c36c41e2593a058422e2f\", element=\"f.802610E0FA108D366307D10265321E12.d.A47D865BAD4E1DDA71A81973CC7E241C.e.1143\")>\n",
      "<selenium.webdriver.remote.webelement.WebElement (session=\"ed0dda38418c36c41e2593a058422e2f\", element=\"f.802610E0FA108D366307D10265321E12.d.A47D865BAD4E1DDA71A81973CC7E241C.e.1146\")>\n",
      "<selenium.webdriver.remote.webelement.WebElement (session=\"ed0dda38418c36c41e2593a058422e2f\", element=\"f.802610E0FA108D366307D10265321E12.d.A47D865BAD4E1DDA71A81973CC7E241C.e.1162\")>\n",
      "<selenium.webdriver.remote.webelement.WebElement (session=\"ed0dda38418c36c41e2593a058422e2f\", element=\"f.802610E0FA108D366307D10265321E12.d.A47D865BAD4E1DDA71A81973CC7E241C.e.1173\")>\n",
      "<selenium.webdriver.remote.webelement.WebElement (session=\"ed0dda38418c36c41e2593a058422e2f\", element=\"f.802610E0FA108D366307D10265321E12.d.A47D865BAD4E1DDA71A81973CC7E241C.e.1178\")>\n",
      "<selenium.webdriver.remote.webelement.WebElement (session=\"ed0dda38418c36c41e2593a058422e2f\", element=\"f.802610E0FA108D366307D10265321E12.d.A47D865BAD4E1DDA71A81973CC7E241C.e.1186\")>\n",
      "<selenium.webdriver.remote.webelement.WebElement (session=\"ed0dda38418c36c41e2593a058422e2f\", element=\"f.802610E0FA108D366307D10265321E12.d.A47D865BAD4E1DDA71A81973CC7E241C.e.1238\")>\n",
      "<selenium.webdriver.remote.webelement.WebElement (session=\"ed0dda38418c36c41e2593a058422e2f\", element=\"f.802610E0FA108D366307D10265321E12.d.A47D865BAD4E1DDA71A81973CC7E241C.e.1241\")>\n",
      "<selenium.webdriver.remote.webelement.WebElement (session=\"ed0dda38418c36c41e2593a058422e2f\", element=\"f.802610E0FA108D366307D10265321E12.d.A47D865BAD4E1DDA71A81973CC7E241C.e.1244\")>\n",
      "<selenium.webdriver.remote.webelement.WebElement (session=\"ed0dda38418c36c41e2593a058422e2f\", element=\"f.802610E0FA108D366307D10265321E12.d.A47D865BAD4E1DDA71A81973CC7E241C.e.1260\")>\n",
      "<selenium.webdriver.remote.webelement.WebElement (session=\"ed0dda38418c36c41e2593a058422e2f\", element=\"f.802610E0FA108D366307D10265321E12.d.A47D865BAD4E1DDA71A81973CC7E241C.e.1271\")>\n",
      "<selenium.webdriver.remote.webelement.WebElement (session=\"ed0dda38418c36c41e2593a058422e2f\", element=\"f.802610E0FA108D366307D10265321E12.d.A47D865BAD4E1DDA71A81973CC7E241C.e.1279\")>\n",
      "<selenium.webdriver.remote.webelement.WebElement (session=\"ed0dda38418c36c41e2593a058422e2f\", element=\"f.802610E0FA108D366307D10265321E12.d.A47D865BAD4E1DDA71A81973CC7E241C.e.1331\")>\n",
      "<selenium.webdriver.remote.webelement.WebElement (session=\"ed0dda38418c36c41e2593a058422e2f\", element=\"f.802610E0FA108D366307D10265321E12.d.A47D865BAD4E1DDA71A81973CC7E241C.e.1334\")>\n",
      "<selenium.webdriver.remote.webelement.WebElement (session=\"ed0dda38418c36c41e2593a058422e2f\", element=\"f.802610E0FA108D366307D10265321E12.d.A47D865BAD4E1DDA71A81973CC7E241C.e.1350\")>\n",
      "<selenium.webdriver.remote.webelement.WebElement (session=\"ed0dda38418c36c41e2593a058422e2f\", element=\"f.802610E0FA108D366307D10265321E12.d.A47D865BAD4E1DDA71A81973CC7E241C.e.1361\")>\n",
      "<selenium.webdriver.remote.webelement.WebElement (session=\"ed0dda38418c36c41e2593a058422e2f\", element=\"f.802610E0FA108D366307D10265321E12.d.A47D865BAD4E1DDA71A81973CC7E241C.e.1369\")>\n",
      "<selenium.webdriver.remote.webelement.WebElement (session=\"ed0dda38418c36c41e2593a058422e2f\", element=\"f.802610E0FA108D366307D10265321E12.d.A47D865BAD4E1DDA71A81973CC7E241C.e.1372\")>\n",
      "<selenium.webdriver.remote.webelement.WebElement (session=\"ed0dda38418c36c41e2593a058422e2f\", element=\"f.802610E0FA108D366307D10265321E12.d.A47D865BAD4E1DDA71A81973CC7E241C.e.1427\")>\n",
      "<selenium.webdriver.remote.webelement.WebElement (session=\"ed0dda38418c36c41e2593a058422e2f\", element=\"f.802610E0FA108D366307D10265321E12.d.A47D865BAD4E1DDA71A81973CC7E241C.e.1430\")>\n",
      "<selenium.webdriver.remote.webelement.WebElement (session=\"ed0dda38418c36c41e2593a058422e2f\", element=\"f.802610E0FA108D366307D10265321E12.d.A47D865BAD4E1DDA71A81973CC7E241C.e.1446\")>\n",
      "<selenium.webdriver.remote.webelement.WebElement (session=\"ed0dda38418c36c41e2593a058422e2f\", element=\"f.802610E0FA108D366307D10265321E12.d.A47D865BAD4E1DDA71A81973CC7E241C.e.1457\")>\n",
      "<selenium.webdriver.remote.webelement.WebElement (session=\"ed0dda38418c36c41e2593a058422e2f\", element=\"f.802610E0FA108D366307D10265321E12.d.A47D865BAD4E1DDA71A81973CC7E241C.e.1462\")>\n",
      "<selenium.webdriver.remote.webelement.WebElement (session=\"ed0dda38418c36c41e2593a058422e2f\", element=\"f.802610E0FA108D366307D10265321E12.d.A47D865BAD4E1DDA71A81973CC7E241C.e.1472\")>\n",
      "<selenium.webdriver.remote.webelement.WebElement (session=\"ed0dda38418c36c41e2593a058422e2f\", element=\"f.802610E0FA108D366307D10265321E12.d.A47D865BAD4E1DDA71A81973CC7E241C.e.1524\")>\n",
      "<selenium.webdriver.remote.webelement.WebElement (session=\"ed0dda38418c36c41e2593a058422e2f\", element=\"f.802610E0FA108D366307D10265321E12.d.A47D865BAD4E1DDA71A81973CC7E241C.e.1527\")>\n",
      "<selenium.webdriver.remote.webelement.WebElement (session=\"ed0dda38418c36c41e2593a058422e2f\", element=\"f.802610E0FA108D366307D10265321E12.d.A47D865BAD4E1DDA71A81973CC7E241C.e.1543\")>\n",
      "<selenium.webdriver.remote.webelement.WebElement (session=\"ed0dda38418c36c41e2593a058422e2f\", element=\"f.802610E0FA108D366307D10265321E12.d.A47D865BAD4E1DDA71A81973CC7E241C.e.1554\")>\n",
      "<selenium.webdriver.remote.webelement.WebElement (session=\"ed0dda38418c36c41e2593a058422e2f\", element=\"f.802610E0FA108D366307D10265321E12.d.A47D865BAD4E1DDA71A81973CC7E241C.e.1562\")>\n",
      "<selenium.webdriver.remote.webelement.WebElement (session=\"ed0dda38418c36c41e2593a058422e2f\", element=\"f.802610E0FA108D366307D10265321E12.d.A47D865BAD4E1DDA71A81973CC7E241C.e.1597\")>\n",
      "<selenium.webdriver.remote.webelement.WebElement (session=\"ed0dda38418c36c41e2593a058422e2f\", element=\"f.802610E0FA108D366307D10265321E12.d.A47D865BAD4E1DDA71A81973CC7E241C.e.1603\")>\n",
      "<selenium.webdriver.remote.webelement.WebElement (session=\"ed0dda38418c36c41e2593a058422e2f\", element=\"f.802610E0FA108D366307D10265321E12.d.A47D865BAD4E1DDA71A81973CC7E241C.e.1622\")>\n",
      "<selenium.webdriver.remote.webelement.WebElement (session=\"ed0dda38418c36c41e2593a058422e2f\", element=\"f.802610E0FA108D366307D10265321E12.d.A47D865BAD4E1DDA71A81973CC7E241C.e.1633\")>\n",
      "<selenium.webdriver.remote.webelement.WebElement (session=\"ed0dda38418c36c41e2593a058422e2f\", element=\"f.802610E0FA108D366307D10265321E12.d.A47D865BAD4E1DDA71A81973CC7E241C.e.1641\")>\n",
      "<selenium.webdriver.remote.webelement.WebElement (session=\"ed0dda38418c36c41e2593a058422e2f\", element=\"f.802610E0FA108D366307D10265321E12.d.A47D865BAD4E1DDA71A81973CC7E241C.e.1697\")>\n",
      "<selenium.webdriver.remote.webelement.WebElement (session=\"ed0dda38418c36c41e2593a058422e2f\", element=\"f.802610E0FA108D366307D10265321E12.d.A47D865BAD4E1DDA71A81973CC7E241C.e.1700\")>\n",
      "<selenium.webdriver.remote.webelement.WebElement (session=\"ed0dda38418c36c41e2593a058422e2f\", element=\"f.802610E0FA108D366307D10265321E12.d.A47D865BAD4E1DDA71A81973CC7E241C.e.1703\")>\n",
      "<selenium.webdriver.remote.webelement.WebElement (session=\"ed0dda38418c36c41e2593a058422e2f\", element=\"f.802610E0FA108D366307D10265321E12.d.A47D865BAD4E1DDA71A81973CC7E241C.e.1706\")>\n",
      "<selenium.webdriver.remote.webelement.WebElement (session=\"ed0dda38418c36c41e2593a058422e2f\", element=\"f.802610E0FA108D366307D10265321E12.d.A47D865BAD4E1DDA71A81973CC7E241C.e.1722\")>\n",
      "<selenium.webdriver.remote.webelement.WebElement (session=\"ed0dda38418c36c41e2593a058422e2f\", element=\"f.802610E0FA108D366307D10265321E12.d.A47D865BAD4E1DDA71A81973CC7E241C.e.1733\")>\n",
      "<selenium.webdriver.remote.webelement.WebElement (session=\"ed0dda38418c36c41e2593a058422e2f\", element=\"f.802610E0FA108D366307D10265321E12.d.A47D865BAD4E1DDA71A81973CC7E241C.e.1741\")>\n",
      "<selenium.webdriver.remote.webelement.WebElement (session=\"ed0dda38418c36c41e2593a058422e2f\", element=\"f.802610E0FA108D366307D10265321E12.d.A47D865BAD4E1DDA71A81973CC7E241C.e.1793\")>\n",
      "<selenium.webdriver.remote.webelement.WebElement (session=\"ed0dda38418c36c41e2593a058422e2f\", element=\"f.802610E0FA108D366307D10265321E12.d.A47D865BAD4E1DDA71A81973CC7E241C.e.1796\")>\n",
      "<selenium.webdriver.remote.webelement.WebElement (session=\"ed0dda38418c36c41e2593a058422e2f\", element=\"f.802610E0FA108D366307D10265321E12.d.A47D865BAD4E1DDA71A81973CC7E241C.e.1812\")>\n",
      "<selenium.webdriver.remote.webelement.WebElement (session=\"ed0dda38418c36c41e2593a058422e2f\", element=\"f.802610E0FA108D366307D10265321E12.d.A47D865BAD4E1DDA71A81973CC7E241C.e.1823\")>\n",
      "<selenium.webdriver.remote.webelement.WebElement (session=\"ed0dda38418c36c41e2593a058422e2f\", element=\"f.802610E0FA108D366307D10265321E12.d.A47D865BAD4E1DDA71A81973CC7E241C.e.1831\")>\n",
      "<selenium.webdriver.remote.webelement.WebElement (session=\"ed0dda38418c36c41e2593a058422e2f\", element=\"f.802610E0FA108D366307D10265321E12.d.A47D865BAD4E1DDA71A81973CC7E241C.e.1833\")>\n",
      "<selenium.webdriver.remote.webelement.WebElement (session=\"ed0dda38418c36c41e2593a058422e2f\", element=\"f.802610E0FA108D366307D10265321E12.d.A47D865BAD4E1DDA71A81973CC7E241C.e.1882\")>\n",
      "<selenium.webdriver.remote.webelement.WebElement (session=\"ed0dda38418c36c41e2593a058422e2f\", element=\"f.802610E0FA108D366307D10265321E12.d.A47D865BAD4E1DDA71A81973CC7E241C.e.1898\")>\n",
      "<selenium.webdriver.remote.webelement.WebElement (session=\"ed0dda38418c36c41e2593a058422e2f\", element=\"f.802610E0FA108D366307D10265321E12.d.A47D865BAD4E1DDA71A81973CC7E241C.e.1909\")>\n",
      "<selenium.webdriver.remote.webelement.WebElement (session=\"ed0dda38418c36c41e2593a058422e2f\", element=\"f.802610E0FA108D366307D10265321E12.d.A47D865BAD4E1DDA71A81973CC7E241C.e.1917\")>\n",
      "<selenium.webdriver.remote.webelement.WebElement (session=\"ed0dda38418c36c41e2593a058422e2f\", element=\"f.802610E0FA108D366307D10265321E12.d.A47D865BAD4E1DDA71A81973CC7E241C.e.1952\")>\n",
      "<selenium.webdriver.remote.webelement.WebElement (session=\"ed0dda38418c36c41e2593a058422e2f\", element=\"f.802610E0FA108D366307D10265321E12.d.A47D865BAD4E1DDA71A81973CC7E241C.e.1971\")>\n",
      "<selenium.webdriver.remote.webelement.WebElement (session=\"ed0dda38418c36c41e2593a058422e2f\", element=\"f.802610E0FA108D366307D10265321E12.d.A47D865BAD4E1DDA71A81973CC7E241C.e.1982\")>\n",
      "<selenium.webdriver.remote.webelement.WebElement (session=\"ed0dda38418c36c41e2593a058422e2f\", element=\"f.802610E0FA108D366307D10265321E12.d.A47D865BAD4E1DDA71A81973CC7E241C.e.1990\")>\n",
      "<selenium.webdriver.remote.webelement.WebElement (session=\"ed0dda38418c36c41e2593a058422e2f\", element=\"f.802610E0FA108D366307D10265321E12.d.A47D865BAD4E1DDA71A81973CC7E241C.e.2026\")>\n",
      "<selenium.webdriver.remote.webelement.WebElement (session=\"ed0dda38418c36c41e2593a058422e2f\", element=\"f.802610E0FA108D366307D10265321E12.d.A47D865BAD4E1DDA71A81973CC7E241C.e.2032\")>\n",
      "<selenium.webdriver.remote.webelement.WebElement (session=\"ed0dda38418c36c41e2593a058422e2f\", element=\"f.802610E0FA108D366307D10265321E12.d.A47D865BAD4E1DDA71A81973CC7E241C.e.2048\")>\n",
      "<selenium.webdriver.remote.webelement.WebElement (session=\"ed0dda38418c36c41e2593a058422e2f\", element=\"f.802610E0FA108D366307D10265321E12.d.A47D865BAD4E1DDA71A81973CC7E241C.e.2059\")>\n",
      "<selenium.webdriver.remote.webelement.WebElement (session=\"ed0dda38418c36c41e2593a058422e2f\", element=\"f.802610E0FA108D366307D10265321E12.d.A47D865BAD4E1DDA71A81973CC7E241C.e.2067\")>\n",
      "<selenium.webdriver.remote.webelement.WebElement (session=\"ed0dda38418c36c41e2593a058422e2f\", element=\"f.802610E0FA108D366307D10265321E12.d.A47D865BAD4E1DDA71A81973CC7E241C.e.2103\")>\n",
      "<selenium.webdriver.remote.webelement.WebElement (session=\"ed0dda38418c36c41e2593a058422e2f\", element=\"f.802610E0FA108D366307D10265321E12.d.A47D865BAD4E1DDA71A81973CC7E241C.e.2122\")>\n",
      "<selenium.webdriver.remote.webelement.WebElement (session=\"ed0dda38418c36c41e2593a058422e2f\", element=\"f.802610E0FA108D366307D10265321E12.d.A47D865BAD4E1DDA71A81973CC7E241C.e.2130\")>\n",
      "<selenium.webdriver.remote.webelement.WebElement (session=\"ed0dda38418c36c41e2593a058422e2f\", element=\"f.802610E0FA108D366307D10265321E12.d.A47D865BAD4E1DDA71A81973CC7E241C.e.2138\")>\n",
      "<selenium.webdriver.remote.webelement.WebElement (session=\"ed0dda38418c36c41e2593a058422e2f\", element=\"f.802610E0FA108D366307D10265321E12.d.A47D865BAD4E1DDA71A81973CC7E241C.e.2193\")>\n",
      "<selenium.webdriver.remote.webelement.WebElement (session=\"ed0dda38418c36c41e2593a058422e2f\", element=\"f.802610E0FA108D366307D10265321E12.d.A47D865BAD4E1DDA71A81973CC7E241C.e.2196\")>\n",
      "<selenium.webdriver.remote.webelement.WebElement (session=\"ed0dda38418c36c41e2593a058422e2f\", element=\"f.802610E0FA108D366307D10265321E12.d.A47D865BAD4E1DDA71A81973CC7E241C.e.2212\")>\n",
      "<selenium.webdriver.remote.webelement.WebElement (session=\"ed0dda38418c36c41e2593a058422e2f\", element=\"f.802610E0FA108D366307D10265321E12.d.A47D865BAD4E1DDA71A81973CC7E241C.e.2223\")>\n",
      "<selenium.webdriver.remote.webelement.WebElement (session=\"ed0dda38418c36c41e2593a058422e2f\", element=\"f.802610E0FA108D366307D10265321E12.d.A47D865BAD4E1DDA71A81973CC7E241C.e.2231\")>\n"
     ]
    }
   ],
   "source": [
    "ul_element = driver.find_element(By.CSS_SELECTOR, \".css-zu9cdh.eu4oa1w0\")\n",
    "\n",
    "vagas = ul_element.find_elements(By.TAG_NAME, \"li\")\n",
    "\n",
    "\n",
    "for vaga in vagas:\n",
    "    print(vaga)"
   ]
  }
 ],
 "metadata": {
  "kernelspec": {
   "display_name": "Python 3",
   "language": "python",
   "name": "python3"
  },
  "language_info": {
   "codemirror_mode": {
    "name": "ipython",
    "version": 3
   },
   "file_extension": ".py",
   "mimetype": "text/x-python",
   "name": "python",
   "nbconvert_exporter": "python",
   "pygments_lexer": "ipython3",
   "version": "3.12.5"
  }
 },
 "nbformat": 4,
 "nbformat_minor": 2
}
