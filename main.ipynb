{
 "cells": [
  {
   "cell_type": "markdown",
   "metadata": {},
   "source": [
    "## - **Importando Bibliotecas**"
   ]
  },
  {
   "cell_type": "code",
   "execution_count": 11,
   "metadata": {},
   "outputs": [],
   "source": [
    "from time import sleep\n",
    "from selenium import webdriver\n",
    "from selenium.webdriver.common.by import By\n",
    "from selenium.webdriver.common.keys import Keys"
   ]
  },
  {
   "cell_type": "markdown",
   "metadata": {},
   "source": [
    "## - **Entrando no Indeed**"
   ]
  },
  {
   "cell_type": "code",
   "execution_count": 12,
   "metadata": {},
   "outputs": [],
   "source": [
    "driver = webdriver.Chrome()\n",
    "url_login = \"https://br.indeed.com/\"\n",
    "driver.get(url_login)"
   ]
  },
  {
   "cell_type": "markdown",
   "metadata": {},
   "source": [
    "## - **Pequisando Vagas**"
   ]
  },
  {
   "cell_type": "code",
   "execution_count": 13,
   "metadata": {},
   "outputs": [],
   "source": [
    "driver.get(url_login)\n",
    "\n",
    "try: #recusando cookies\n",
    "    recusar_cookies = driver.find_element(By.ID, \"onetrust-reject-all-handler\")\n",
    "    recusar_cookies.click()\n",
    "except:\n",
    "    pass\n",
    "\n",
    "\n",
    "input_cargo = input(\"Digite o cargo desejado: \")\n",
    "input_localidade = input(\"Digite a localidade desejada, podendo ser remoto: \")\n",
    "\n",
    "\n",
    "cargo = driver.find_element(By.ID, \"text-input-what\") #encontra a barra de pesquisa para cargos\n",
    "localidade = driver.find_element(By.ID, \"text-input-where\") #encontra a barra de pesquisa para localidade\n",
    "\n",
    "\n",
    "#Apaga qualquer texto que foi previamente escrito na barra de cargos\n",
    "cargo.send_keys(Keys.CONTROL + \"a\")\n",
    "cargo.send_keys(Keys.BACKSPACE)\n",
    "\n",
    "sleep(1)\n",
    "\n",
    "\n",
    "#Apaga qualquer texto que foi previamente escrito na barra de localidade\n",
    "localidade.send_keys(Keys.CONTROL + \"a\")\n",
    "localidade.send_keys(Keys.BACKSPACE)\n",
    "\n",
    "sleep(1)\n",
    "\n",
    "\n",
    "#Preenche as barras de pesquisa e realiza a pesquisa\n",
    "cargo.send_keys(input_cargo)\n",
    "localidade.send_keys(input_localidade)\n",
    "localidade.send_keys(Keys.ENTER)"
   ]
  },
  {
   "cell_type": "markdown",
   "metadata": {},
   "source": [
    "## - **Definindo Função de Descrições de Vaga**"
   ]
  },
  {
   "cell_type": "code",
   "execution_count": 14,
   "metadata": {},
   "outputs": [],
   "source": [
    "def raspar_dados_vaga():\n",
    "\n",
    "    #Encontra o nome da empresa\n",
    "    try:\n",
    "        nome = driver.find_element(By.CLASS_NAME, \"css-hon9z8.eu4oa1w0\")\n",
    "        print(\"Nome Empresa: \", nome.text, \"\\n\")\n",
    "    except:\n",
    "        pass\n",
    "    \n",
    "\n",
    "    #Encontra a descrição da vaga\n",
    "    try:\n",
    "        jobdescription = driver.find_element(By.ID, \"jobDescriptionText\")\n",
    "        print(jobdescription.text)\n",
    "    except:\n",
    "        pass\n",
    "    \n",
    "\n",
    "    #Encontra os benefícios da vaga\n",
    "    try:\n",
    "        benefits = driver.find_element(By.ID, \"benefits\")\n",
    "        print(benefits.text)\n",
    "    except:\n",
    "        pass\n",
    "    \n",
    "\n",
    "    #Encontra os detalhes da vaga\n",
    "    try:\n",
    "        jobdetails = driver.find_element(By.ID, \"jobDetailsSection\")\n",
    "        print(jobdetails.text)\n",
    "    except:\n",
    "        pass\n",
    "\n",
    "\n",
    "    #Encontra a localidade da vaga\n",
    "    try:\n",
    "        location = driver.find_element(By.ID, \"jobLocationWrapper\")\n",
    "        print(location.text)\n",
    "    except:\n",
    "        pass"
   ]
  },
  {
   "cell_type": "markdown",
   "metadata": {},
   "source": [
    "## - **Iterando sobre Vagas**"
   ]
  },
  {
   "cell_type": "code",
   "execution_count": 15,
   "metadata": {},
   "outputs": [],
   "source": [
    "#Função para clicar em cada bloco de vaga\n",
    "def iterar_vagas(): \n",
    "    ul_element = driver.find_element(By.CSS_SELECTOR, \".css-zu9cdh.eu4oa1w0\")\n",
    "\n",
    "    \n",
    "    #Fechar aba de ativação de login\n",
    "    try:\n",
    "        ignore = ul_element.find_element(By.ID, \"mosaic-afterFifthJobResult\")\n",
    "        \n",
    "        ignore_hamburguer = ignore.find_element(By.ID, \"menu-button--menu--1\")\n",
    "        ignore_hamburguer.click()\n",
    "\n",
    "        fechar = driver.find_element(By.CLASS_NAME, \"css-1d4wshm.ehvvxyn1\")\n",
    "        fechar.click()\n",
    "\n",
    "    except:\n",
    "        pass\n",
    "\n",
    "    vagas = ul_element.find_elements(By.CLASS_NAME, \"css-5lfssm.eu4oa1w0\")\n",
    "\n",
    "    for i, vaga in enumerate(vagas):\n",
    "\n",
    "        if i == 5:\n",
    "            continue\n",
    "\n",
    "        if i == 11:\n",
    "            continue\n",
    "\n",
    "        if i == 17:\n",
    "            continue\n",
    "\n",
    "        print(i)\n",
    "\n",
    "        vaga.click()\n",
    "\n",
    "        sleep(4)\n",
    "\n",
    "        raspar_dados_vaga()\n",
    "\n",
    "        sleep(1.5)\n"
   ]
  },
  {
   "cell_type": "code",
   "execution_count": null,
   "metadata": {},
   "outputs": [],
   "source": [
    "#Formatando cargo para url\n",
    "split_cargo = input_cargo.split()\n",
    "url_cargo = \"+\".join(split_cargo)\n",
    "\n",
    "#Formatando localidade para url\n",
    "split_localidade = input_localidade.split()\n",
    "url_localidade = \"+\".join(split_localidade)\n",
    "\n",
    "#Pegando a quantidade de páginas disponíveis \n",
    "dadElement = driver.find_element(By.CLASS_NAME, \"css-1g90gv6.eu4oa1w0\")\n",
    "childrenElements = dadElement.find_elements(By.TAG_NAME, \"li\")\n",
    "num_pages = len(childrenElements) - 1\n",
    "\n",
    "#Repetindo a função até a última página disponível\n",
    "for i in range(num_pages): \n",
    "    url = f\"https://br.indeed.com/jobs?q={url_cargo}&l={url_localidade}&start={i*10}\"\n",
    "    driver.get(url)\n",
    "    sleep(2)\n",
    "\n",
    "\n",
    "    #Fechar aba de ativação de login\n",
    "    try:\n",
    "        botao = driver.find_element(By.CLASS_NAME, \"css-yi9ndv.e8ju0x51\")\n",
    "        botao.click()\n",
    "    except:\n",
    "        pass\n",
    "\n",
    "    iterar_vagas()\n",
    "\n",
    "#Algumas requisições de vagas possuem poucas páginas, podendo gerar um loopig de coleta de informações, visto que a página volta ao estado inicial a partir do momento em que é selecionado uma página que não existe no catálogo"
   ]
  }
 ],
 "metadata": {
  "kernelspec": {
   "display_name": "Python 3 (ipykernel)",
   "language": "python",
   "name": "python3"
  },
  "language_info": {
   "codemirror_mode": {
    "name": "ipython",
    "version": 3
   },
   "file_extension": ".py",
   "mimetype": "text/x-python",
   "name": "python",
   "nbconvert_exporter": "python",
   "pygments_lexer": "ipython3",
   "version": "3.12.5"
  }
 },
 "nbformat": 4,
 "nbformat_minor": 4
}
