{
 "cells": [
  {
   "cell_type": "markdown",
   "metadata": {},
   "source": [
    "## - **Importando Bibliotecas**"
   ]
  },
  {
   "cell_type": "code",
   "execution_count": 7,
   "metadata": {},
   "outputs": [],
   "source": [
    "from time import sleep\n",
    "from selenium import webdriver\n",
    "from selenium.webdriver.common.by import By\n",
    "from selenium.webdriver.common.keys import Keys"
   ]
  },
  {
   "cell_type": "markdown",
   "metadata": {},
   "source": [
    "## - **Entrando no Indeed**"
   ]
  },
  {
   "cell_type": "code",
   "execution_count": 8,
   "metadata": {},
   "outputs": [],
   "source": [
    "driver = webdriver.Chrome()\n",
    "url_login = \"https://br.indeed.com/\"\n",
    "driver.get(url_login)"
   ]
  },
  {
   "cell_type": "markdown",
   "metadata": {},
   "source": [
    "## - **Pequisando Vagas**"
   ]
  },
  {
   "cell_type": "code",
   "execution_count": 9,
   "metadata": {},
   "outputs": [],
   "source": [
    "driver.get(url_login)\n",
    "\n",
    "try:\n",
    "    recusar_cookies = driver.find_element(By.ID, \"onetrust-reject-all-handler\")\n",
    "    recusar_cookies.click()\n",
    "except:\n",
    "    pass\n",
    "\n",
    "\n",
    "input_cargo = \"Desenvolvedor Python\"\n",
    "input_localidade = \"Minas Gerais\"\n",
    "\n",
    "\n",
    "localidade = driver.find_element(By.ID, \"text-input-where\")\n",
    "cargo = driver.find_element(By.ID, \"text-input-what\")\n",
    "\n",
    "\n",
    "cargo.send_keys(Keys.CONTROL + \"a\")\n",
    "cargo.send_keys(Keys.BACKSPACE)\n",
    "\n",
    "sleep(1.5)\n",
    "\n",
    "localidade.send_keys(Keys.CONTROL + \"a\")\n",
    "localidade.send_keys(Keys.BACKSPACE)\n",
    "\n",
    "sleep(1.5)\n",
    "\n",
    "cargo.send_keys(input_cargo)\n",
    "localidade.send_keys(input_localidade)\n",
    "localidade.send_keys(Keys.ENTER)"
   ]
  },
  {
   "cell_type": "markdown",
   "metadata": {},
   "source": [
    "## - **Iterando sobre Vagas**"
   ]
  },
  {
   "cell_type": "code",
   "execution_count": 10,
   "metadata": {},
   "outputs": [
    {
     "name": "stdout",
     "output_type": "stream",
     "text": [
      "18\n",
      "0\n",
      "1\n",
      "2\n",
      "3\n",
      "4\n",
      "6\n",
      "7\n",
      "8\n",
      "9\n",
      "10\n",
      "12\n",
      "13\n",
      "14\n",
      "15\n",
      "16\n"
     ]
    }
   ],
   "source": [
    "ul_element = driver.find_element(By.CSS_SELECTOR, \".css-zu9cdh.eu4oa1w0\")\n",
    "\n",
    "vagas = ul_element.find_elements(By.CLASS_NAME, \"css-5lfssm.eu4oa1w0\")\n",
    "\n",
    "print(len(vagas))\n",
    "\n",
    "for i, vaga in enumerate(vagas):\n",
    "    if i == 5:\n",
    "        continue\n",
    "\n",
    "    if i == 11:\n",
    "        continue\n",
    "\n",
    "    if i == 17:\n",
    "        continue\n",
    "\n",
    "    print(i)\n",
    "    vaga.click()\n",
    "    sleep(2)\n"
   ]
  }
 ],
 "metadata": {
  "kernelspec": {
   "display_name": "Python 3",
   "language": "python",
   "name": "python3"
  },
  "language_info": {
   "codemirror_mode": {
    "name": "ipython",
    "version": 3
   },
   "file_extension": ".py",
   "mimetype": "text/x-python",
   "name": "python",
   "nbconvert_exporter": "python",
   "pygments_lexer": "ipython3",
   "version": "3.12.5"
  }
 },
 "nbformat": 4,
 "nbformat_minor": 2
}
